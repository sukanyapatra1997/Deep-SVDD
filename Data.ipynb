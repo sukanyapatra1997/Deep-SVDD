{
 "cells": [
  {
   "cell_type": "code",
   "execution_count": 1,
   "id": "1afefbf9",
   "metadata": {},
   "outputs": [
    {
     "name": "stdout",
     "output_type": "stream",
     "text": [
      "/mnt/e/PhD/Code/Deep-SVDD-PyTorch/src\n"
     ]
    }
   ],
   "source": [
    "%cd src"
   ]
  },
  {
   "cell_type": "code",
   "execution_count": 2,
   "id": "bafd3add",
   "metadata": {},
   "outputs": [],
   "source": [
    "from datasets.main import load_dataset"
   ]
  },
  {
   "cell_type": "code",
   "execution_count": null,
   "id": "9d676c9f",
   "metadata": {},
   "outputs": [],
   "source": [
    "dataset_name = 'mnist'\n",
    "data_path = '../data' \n",
    "normal_class= 3"
   ]
  },
  {
   "cell_type": "code",
   "execution_count": null,
   "id": "93043411",
   "metadata": {},
   "outputs": [],
   "source": [
    "dataset_mnist = load_dataset(dataset_name, data_path, normal_class)"
   ]
  },
  {
   "cell_type": "code",
   "execution_count": null,
   "id": "be91c2ee",
   "metadata": {},
   "outputs": [],
   "source": [
    "dataset_mnist[0]"
   ]
  },
  {
   "cell_type": "code",
   "execution_count": 4,
   "id": "19d8bf73",
   "metadata": {},
   "outputs": [],
   "source": [
    "import numpy as np"
   ]
  },
  {
   "cell_type": "code",
   "execution_count": null,
   "id": "cfec3729",
   "metadata": {},
   "outputs": [],
   "source": [
    "!pwd"
   ]
  },
  {
   "cell_type": "code",
   "execution_count": 10,
   "id": "8ee17cac",
   "metadata": {},
   "outputs": [],
   "source": [
    "total_data = np.load('/mnt/e/FLARACC/Sukanya_data/data_nor_50.npy')"
   ]
  },
  {
   "cell_type": "code",
   "execution_count": 11,
   "id": "bd0f1b12",
   "metadata": {},
   "outputs": [],
   "source": [
    "total_data=total_data[:50]"
   ]
  },
  {
   "cell_type": "code",
   "execution_count": 12,
   "id": "5fedbb56",
   "metadata": {},
   "outputs": [
    {
     "data": {
      "text/plain": [
       "(50, 184, 608)"
      ]
     },
     "execution_count": 12,
     "metadata": {},
     "output_type": "execute_result"
    }
   ],
   "source": [
    "total_data.shape"
   ]
  },
  {
   "cell_type": "code",
   "execution_count": 13,
   "id": "cf49dfdb",
   "metadata": {},
   "outputs": [],
   "source": [
    "from torch.utils.data import Dataset, DataLoader\n",
    "class FaceLandmarksDataset(Dataset):\n",
    "    \"\"\"Face Landmarks dataset.\"\"\"\n",
    "\n",
    "    def __init__(self, transform=None):\n",
    "        \"\"\"\n",
    "        Args:\n",
    "            csv_file (string): Path to the csv file with annotations.\n",
    "            root_dir (string): Directory with all the images.\n",
    "            transform (callable, optional): Optional transform to be applied\n",
    "                on a sample.\n",
    "        \"\"\"\n",
    "        self.transform = transform\n",
    "\n",
    "    def __len__(self):\n",
    "        #return len(self.landmarks_frame)\n",
    "        return total_data.shape[0]\n",
    "\n",
    "    def __getitem__(self, idx):\n",
    "        if torch.is_tensor(idx):\n",
    "            idx = idx.tolist()\n",
    "\n",
    "#         print(total_data.shape)\n",
    "#         print(total_data[idx].shape)\n",
    "        sample=total_data[idx]\n",
    "        sample = np.array([sample])\n",
    "        sample = sample.astype('float')\n",
    "        if self.transform:\n",
    "            sample = self.transform(sample)\n",
    "\n",
    "        return sample"
   ]
  },
  {
   "cell_type": "code",
   "execution_count": null,
   "id": "26fd041d",
   "metadata": {},
   "outputs": [],
   "source": [
    "dataset = FaceLandmarksDataset(transform)"
   ]
  },
  {
   "cell_type": "code",
   "execution_count": null,
   "id": "35df39ae",
   "metadata": {},
   "outputs": [],
   "source": [
    "dataloader = DataLoader(dataset, batch_size=10,\n",
    "                        shuffle=True, num_workers=0)"
   ]
  },
  {
   "cell_type": "code",
   "execution_count": 14,
   "id": "5d77f46f",
   "metadata": {},
   "outputs": [],
   "source": [
    "import torch\n"
   ]
  },
  {
   "cell_type": "code",
   "execution_count": null,
   "id": "2c956663",
   "metadata": {},
   "outputs": [],
   "source": [
    "for x in dataloader:\n",
    "    print(len(x))\n",
    "    print(x.shape)\n",
    "    print(x[0].shape)\n",
    "    print(x[1].shape)\n",
    "    print(x[2].shape)\n",
    "    print(x[1])\n",
    "    break\n"
   ]
  },
  {
   "cell_type": "code",
   "execution_count": 15,
   "id": "89967186",
   "metadata": {},
   "outputs": [],
   "source": [
    "from datasets.preprocessing import get_target_label_idx, global_contrast_normalization\n",
    "\n",
    "import torchvision.transforms as transforms\n",
    "\n",
    "transform = transforms.Compose([transforms.ToTensor(),\n",
    "                                transforms.Lambda(lambda x: global_contrast_normalization(x, scale='l1'))\n",
    "                               ])\n",
    "train_set = FaceLandmarksDataset(transform=transform)"
   ]
  },
  {
   "cell_type": "code",
   "execution_count": 16,
   "id": "4941d06c",
   "metadata": {},
   "outputs": [],
   "source": [
    "dataLoader = DataLoader(train_set, batch_size=10,\n",
    "                        shuffle=True, num_workers=0)"
   ]
  },
  {
   "cell_type": "code",
   "execution_count": 17,
   "id": "2866854d",
   "metadata": {},
   "outputs": [],
   "source": [
    "iterCount = 0\n",
    "datasetValues = {}\n",
    "\n",
    "for data in dataLoader:\n",
    "    if iterCount == 0:\n",
    "        datasetValues['currDataset'] = data.clone()\n",
    "    else:\n",
    "        datasetValues['currDataset'] = torch.cat((datasetValues['currDataset'], data.clone()), 0)\n",
    "\n",
    "    iterCount += 1\n"
   ]
  },
  {
   "cell_type": "code",
   "execution_count": 18,
   "id": "80eda081",
   "metadata": {},
   "outputs": [
    {
     "data": {
      "text/plain": [
       "torch.Size([50, 608, 1, 184])"
      ]
     },
     "execution_count": 18,
     "metadata": {},
     "output_type": "execute_result"
    }
   ],
   "source": [
    "datasetValues['currDataset'].shape"
   ]
  },
  {
   "cell_type": "code",
   "execution_count": 20,
   "id": "50b79413",
   "metadata": {},
   "outputs": [
    {
     "data": {
      "text/plain": [
       "tensor(-8.5016, dtype=torch.float64)"
      ]
     },
     "execution_count": 20,
     "metadata": {},
     "output_type": "execute_result"
    }
   ],
   "source": [
    "datasetValues['currDataset'].min()"
   ]
  },
  {
   "cell_type": "code",
   "execution_count": 21,
   "id": "eb648c0c",
   "metadata": {},
   "outputs": [
    {
     "data": {
      "text/plain": [
       "tensor(7.0120, dtype=torch.float64)"
      ]
     },
     "execution_count": 21,
     "metadata": {},
     "output_type": "execute_result"
    }
   ],
   "source": [
    "datasetValues['currDataset'].max()"
   ]
  },
  {
   "cell_type": "code",
   "execution_count": null,
   "id": "b89d910f",
   "metadata": {},
   "outputs": [],
   "source": []
  }
 ],
 "metadata": {
  "kernelspec": {
   "display_name": "Python 3 (ipykernel)",
   "language": "python",
   "name": "python3"
  },
  "language_info": {
   "codemirror_mode": {
    "name": "ipython",
    "version": 3
   },
   "file_extension": ".py",
   "mimetype": "text/x-python",
   "name": "python",
   "nbconvert_exporter": "python",
   "pygments_lexer": "ipython3",
   "version": "3.7.11"
  }
 },
 "nbformat": 4,
 "nbformat_minor": 5
}
